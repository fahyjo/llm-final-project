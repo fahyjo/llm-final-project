{
 "cells": [
  {
   "cell_type": "code",
   "execution_count": 1,
   "metadata": {},
   "outputs": [],
   "source": [
    "from tsp_llm import *"
   ]
  },
  {
   "cell_type": "code",
   "execution_count": 2,
   "metadata": {},
   "outputs": [
    {
     "name": "stdout",
     "output_type": "stream",
     "text": [
      "{0: (63, -72), 1: (-94, 89), 2: (-30, -38), 3: (-43, -65), 4: (88, -74)}\n"
     ]
    }
   ],
   "source": [
    "dataset = load_tsp_dataset(\"tsp_dataset_100_problems.json\")\n",
    "dataset = process_dataset(dataset)\n",
    "tsp = dataset['size_5'][0]['tsp']\n",
    "print(tsp)"
   ]
  },
  {
   "cell_type": "code",
   "execution_count": 3,
   "metadata": {},
   "outputs": [
    {
     "name": "stdout",
     "output_type": "stream",
     "text": [
      "You are solving a Traveling Salesperson Problem (TSP). Your goal is to find the shortest possible route that visits each city exactly once and returns to the starting city.\n",
      "\n",
      "## Problem Setup\n",
      "Given 5 nodes with coordinates:\n",
      "Node: 0: (63, -72)\n",
      "Node: 1: (-94, 89)\n",
      "Node: 2: (-30, -38)\n",
      "Node: 3: (-43, -65)\n",
      "Node: 4: (88, -74)\n",
      "\n",
      "\n",
      "## Distance Matrix\n",
      "The matrix below shows the distance between each pair of nodes:\n",
      "           0     1     2     3     4\n",
      "0       0.0 224.9  99.0 106.2  25.1\n",
      "1     224.9   0.0 142.2 162.2 244.3\n",
      "2      99.0 142.2   0.0  30.0 123.4\n",
      "3     106.2 162.2  30.0   0.0 131.3\n",
      "4      25.1 244.3 123.4 131.3   0.0 \n",
      "\n",
      "\n",
      "## Previous Solutions\n",
      "These routes have already been tried:\n",
      "Route: 0,3,4,2,1,0 with total length: 728\n",
      "Route: 0,4,1,3,2,0 with total length: 561\n",
      "Route: 0,4,1,2,3,0 with total length: 548\n",
      "\n",
      "\n",
      "## Requirements\n",
      "- Start and end at node 0\n",
      "- Visit each node exactly once before returning to node 0\n",
      "- Provide a route with a total distance lower than 548\n",
      "- Your solution must be different from the previous routes\n",
      "\n",
      "## Output Format\n",
      "Think through your approach step by step, showing your calculations. Then provide your final solution in exactly this format:\n",
      "<answer>0,X,X,X,X,X,X,X,X,X,0</answer>\n"
     ]
    }
   ],
   "source": [
    "print(generate_llm_prompt_ds(tsp))"
   ]
  }
 ],
 "metadata": {
  "kernelspec": {
   "display_name": ".venv",
   "language": "python",
   "name": "python3"
  },
  "language_info": {
   "codemirror_mode": {
    "name": "ipython",
    "version": 3
   },
   "file_extension": ".py",
   "mimetype": "text/x-python",
   "name": "python",
   "nbconvert_exporter": "python",
   "pygments_lexer": "ipython3",
   "version": "3.10.12"
  }
 },
 "nbformat": 4,
 "nbformat_minor": 2
}
