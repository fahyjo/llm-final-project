{
 "cells": [
  {
   "cell_type": "code",
   "execution_count": 1,
   "metadata": {},
   "outputs": [],
   "source": [
    "import tsp\n",
    "import tsp_llm as llm"
   ]
  },
  {
   "cell_type": "code",
   "execution_count": 2,
   "metadata": {},
   "outputs": [],
   "source": [
    "dataset = llm.load_tsp_dataset(\"tsp_dataset_100_problems.json\")\n",
    "problem = dataset['size_5'][0]"
   ]
  },
  {
   "cell_type": "code",
   "execution_count": 9,
   "metadata": {},
   "outputs": [
    {
     "data": {
      "text/plain": [
       "{'problem_id': 'tsp_5_1',\n",
       " 'size': 5,\n",
       " 'coordinates': {'1': [63, -72],\n",
       "  '2': [-94, 89],\n",
       "  '3': [-30, -38],\n",
       "  '4': [-43, -65],\n",
       "  '5': [88, -74]},\n",
       " 'solution': {'path': [1, 4, 3, 2, 5],\n",
       "  'distance': 547.8135371925763,\n",
       "  'solve_time_seconds': 4.38690185546875e-05}}"
      ]
     },
     "execution_count": 9,
     "metadata": {},
     "output_type": "execute_result"
    }
   ],
   "source": [
    "problem"
   ]
  },
  {
   "cell_type": "code",
   "execution_count": 3,
   "metadata": {},
   "outputs": [
    {
     "name": "stdout",
     "output_type": "stream",
     "text": [
      "565.5187813859573\n"
     ]
    }
   ],
   "source": [
    "print(tsp.calculate_tsp_distance(problem['coordinates'], [str(i+1) for i in [0,4,2,3,1\n",
    "]]))"
   ]
  }
 ],
 "metadata": {
  "kernelspec": {
   "display_name": "base",
   "language": "python",
   "name": "python3"
  },
  "language_info": {
   "codemirror_mode": {
    "name": "ipython",
    "version": 3
   },
   "file_extension": ".py",
   "mimetype": "text/x-python",
   "name": "python",
   "nbconvert_exporter": "python",
   "pygments_lexer": "ipython3",
   "version": "3.12.7"
  }
 },
 "nbformat": 4,
 "nbformat_minor": 2
}
