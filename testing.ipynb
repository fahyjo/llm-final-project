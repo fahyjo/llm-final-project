{
 "cells": [
  {
   "cell_type": "code",
   "execution_count": 4,
   "metadata": {},
   "outputs": [],
   "source": [
    "import tsp\n",
    "import tsp_llm as llm"
   ]
  },
  {
   "cell_type": "code",
   "execution_count": 12,
   "metadata": {},
   "outputs": [],
   "source": [
    "dataset = llm.load_tsp_dataset(\"tsp_dataset_100_problems.json\")\n",
    "problem = dataset['size_10'][0]"
   ]
  },
  {
   "cell_type": "code",
   "execution_count": 13,
   "metadata": {},
   "outputs": [
    {
     "data": {
      "text/plain": [
       "{'problem_id': 'tsp_10_1',\n",
       " 'size': 10,\n",
       " 'coordinates': {'1': [-84, -14],\n",
       "  '2': [-95, 50],\n",
       "  '3': [41, -42],\n",
       "  '4': [50, -44],\n",
       "  '5': [-99, -82],\n",
       "  '6': [81, 61],\n",
       "  '7': [-85, -42],\n",
       "  '8': [-83, -92],\n",
       "  '9': [-16, -82],\n",
       "  '10': [31, -40]},\n",
       " 'solution': {'path': [1, 2, 6, 4, 3, 10, 9, 8, 5, 7],\n",
       "  'distance': 590.2189728849489,\n",
       "  'solve_time_seconds': 0.6078550815582275}}"
      ]
     },
     "execution_count": 13,
     "metadata": {},
     "output_type": "execute_result"
    }
   ],
   "source": [
    "problem"
   ]
  },
  {
   "cell_type": "code",
   "execution_count": 16,
   "metadata": {},
   "outputs": [
    {
     "name": "stdout",
     "output_type": "stream",
     "text": [
      "1084.8409740844884\n"
     ]
    }
   ],
   "source": [
    "print(tsp.calculate_tsp_distance(problem['coordinates'], [str(i+1) for i in [0,7,2,8,5,6,4,3,9,1\n",
    "]]))"
   ]
  }
 ],
 "metadata": {
  "kernelspec": {
   "display_name": "llm-final-project",
   "language": "python",
   "name": "python3"
  },
  "language_info": {
   "codemirror_mode": {
    "name": "ipython",
    "version": 3
   },
   "file_extension": ".py",
   "mimetype": "text/x-python",
   "name": "python",
   "nbconvert_exporter": "python",
   "pygments_lexer": "ipython3",
   "version": "3.11.11"
  }
 },
 "nbformat": 4,
 "nbformat_minor": 2
}
